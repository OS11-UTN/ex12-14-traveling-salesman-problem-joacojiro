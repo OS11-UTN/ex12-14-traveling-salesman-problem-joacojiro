{
 "cells": [
  {
   "cell_type": "code",
   "execution_count": 1,
   "metadata": {},
   "outputs": [],
   "source": [
    "import numpy as np"
   ]
  },
  {
   "cell_type": "code",
   "execution_count": 2,
   "metadata": {},
   "outputs": [],
   "source": [
    "# Matrix treatment:\n",
    "def nn2na(NN):\n",
    "    # Get every location where exist an arc:\n",
    "    idxs = np.argwhere(NN)\n",
    "    # Preallocate NA matrix, dimension is (nodes, arcs)\n",
    "    NA = np.zeros([NN.shape[0], idxs.shape[0]]).astype(int)\n",
    "    C = np.zeros(NA.shape[1])\n",
    "    # Loop in every arc, complete from (1) to (-1)\n",
    "    for i, arc in enumerate(idxs):\n",
    "        # Node arc:\n",
    "        NA[arc[0], i] = 1 # From\n",
    "        NA[arc[1], i] = -1 # To\n",
    "\n",
    "    arc_idxs = [(arc[0], arc[1]) for arc in idxs]\n",
    "    arc_idxs_list = [[arc[0], arc[1]] for arc in idxs]\n",
    "\n",
    "    return NA, arc_idxs, arc_idxs_list\n",
    "\n",
    "def find_arc_names(arc_idxs_list, node_name):\n",
    "    arc_names = arc_idxs_list\n",
    "    for i in range(len(arc_names)):\n",
    "        arc_names[i][0] = node_name[arc_names[i][0]]\n",
    "        arc_names[i][1] = node_name[arc_names[i][1]]\n",
    "    return arc_names"
   ]
  },
  {
   "cell_type": "code",
   "execution_count": 3,
   "metadata": {},
   "outputs": [],
   "source": [
    "# Shortest path Utils\n",
    "def get_selected_arcs(arc_idxs, selected_arcs):\n",
    "    arc = []\n",
    "    for idx, i in enumerate(selected_arcs):\n",
    "        if np.isclose(i, 1, rtol=1e-05, atol=1e-08, equal_nan=False): # Vecinity\n",
    "            arc.append(arc_idxs[idx])\n",
    "    return arc\n",
    "\n",
    "def invpath(preced):\n",
    "    x = len(preced) - 1\n",
    "    route = [x]\n",
    "    while x > 0:\n",
    "        x = (preced[x])\n",
    "        route.insert(0, x)\n",
    "    return route"
   ]
  },
  {
   "cell_type": "code",
   "execution_count": 4,
   "metadata": {},
   "outputs": [],
   "source": [
    "# Max Flow Utilities\n",
    "def arc_usage(arc_idxs, res_x):\n",
    "    arc_use = {}\n",
    "    for i in range(len(arc_idxs)):\n",
    "        arc = {tuple(arc_idxs[i]):res_x[i]}\n",
    "        arc_use.update(arc)\n",
    "    return arc_use\n",
    "\n",
    "def get_min_cut(arc_idxs, np_res_flow, np_capacity):\n",
    "    np_capacity = np.where(np_capacity == None, 999, np_capacity)\n",
    "\n",
    "    idxs = np.argwhere((np_res_flow - np_capacity) == 0)\n",
    "    return [arc_idxs[i[0]] for i in idxs]"
   ]
  },
  {
   "cell_type": "code",
   "execution_count": 5,
   "metadata": {},
   "outputs": [],
   "source": [
    "# Transport Utilities\n",
    "def arcs_w_flow(arc_idxs, res_x):\n",
    "    arc_use = {}\n",
    "    for i in range(len(arc_idxs)):\n",
    "        if res_x[i] != 0:\n",
    "            arc = {arc_idxs[i]:res_x[i]}\n",
    "            arc_use.update(arc)\n",
    "    return arc_use"
   ]
  },
  {
   "cell_type": "code",
   "execution_count": 6,
   "metadata": {},
   "outputs": [],
   "source": [
    "# TSP Utilities\n",
    "def Aeq_TSP(NA):\n",
    "    Aeq_pos = np.copy(NA)\n",
    "    np.place(Aeq_pos, Aeq_pos<0, [0])\n",
    "    Aeq_neg = np.copy(NA)\n",
    "    np.place(Aeq_neg, Aeq_neg==1, [0])\n",
    "    np.place(Aeq_neg, Aeq_neg<0, [1])\n",
    "    Aeq = np.concatenate((Aeq_pos,Aeq_neg))\n",
    "    return Aeq"
   ]
  }
 ],
 "metadata": {
  "kernelspec": {
   "display_name": "Python 3",
   "language": "python",
   "name": "python3"
  },
  "language_info": {
   "codemirror_mode": {
    "name": "ipython",
    "version": 3
   },
   "file_extension": ".py",
   "mimetype": "text/x-python",
   "name": "python",
   "nbconvert_exporter": "python",
   "pygments_lexer": "ipython3",
   "version": "3.7.3"
  }
 },
 "nbformat": 4,
 "nbformat_minor": 2
}
