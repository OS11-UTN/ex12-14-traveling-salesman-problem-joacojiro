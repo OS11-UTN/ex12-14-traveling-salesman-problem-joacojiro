{
 "cells": [
  {
   "cell_type": "code",
   "execution_count": 1,
   "metadata": {},
   "outputs": [],
   "source": [
    "import numpy as np\n",
    "from scipy.optimize import linprog\n",
    "from ipynb.fs.full.functions import nn2na, get_selected_arcs, Aeq_TSP, arc_usage, find_arc_names\n",
    "import matplotlib.pyplot as plt"
   ]
  },
  {
   "cell_type": "markdown",
   "metadata": {},
   "source": [
    "Create a list of distances between cities of Argentina: "
   ]
  },
  {
   "cell_type": "code",
   "execution_count": 2,
   "metadata": {},
   "outputs": [],
   "source": [
    "dist = [[0, 344, 303, 1446, 598, 726, 859], #Azul\n",
    "                [344, 0, 647, 1102, 919, 1070, 947], #B.Blanca \n",
    "                [303, 647, 0, 1720, 303, 437, 711], #Bs. As.\n",
    "                [1446, 1102, 1720, 0, 2013, 2164, 1845], #C. Rivadavia\n",
    "                [598, 919, 303, 2013, 0, 151, 628], #C. Uruguay\n",
    "                [726, 1070, 437, 2164, 151, 0, 627], #Concordia\n",
    "                [859, 947, 711, 1845, 628, 627, 0]] #Cordoba"
   ]
  },
  {
   "cell_type": "code",
   "execution_count": 3,
   "metadata": {},
   "outputs": [],
   "source": [
    "node_names = ['Azul', 'B.Blanca', 'Bs. As.', 'C. Rivadavia', 'C. Uruguay', 'Concordia', 'Cordoba']"
   ]
  },
  {
   "cell_type": "markdown",
   "metadata": {},
   "source": [
    "Transform array into unidimensional array and eliminate zeros (distances from a city to itself):"
   ]
  },
  {
   "cell_type": "code",
   "execution_count": 4,
   "metadata": {},
   "outputs": [],
   "source": [
    "C = [item for sublist in dist for item in sublist]\n",
    "for ind,arg in enumerate(C):\n",
    "    if arg ==0:\n",
    "        C.pop(ind)\n",
    "C = np.array(C)"
   ]
  },
  {
   "cell_type": "markdown",
   "metadata": {},
   "source": [
    "Create Aeq, beq and bound to use in linprog:"
   ]
  },
  {
   "cell_type": "code",
   "execution_count": 5,
   "metadata": {},
   "outputs": [],
   "source": [
    "NA, arc_idxs, arc_idxs_list = nn2na(np.array(dist)) #Transform dist column into Node-Arc matrix\n",
    "Aeq = Aeq_TSP(NA) # Duplicate Node-Arc matrix to have only positive values\n",
    "beq = np.zeros(2 * np.shape(NA)[0]) + 1 # Necessary condition for TSP problems\n",
    "bounds = tuple([(0, None) for arcs in range(0, Aeq.shape[1])]) # No upper limit for each arc"
   ]
  },
  {
   "cell_type": "code",
   "execution_count": 6,
   "metadata": {},
   "outputs": [
    {
     "name": "stderr",
     "output_type": "stream",
     "text": [
      "C:\\Users\\joaquin\\Anaconda3\\lib\\site-packages\\ipykernel_launcher.py:1: OptimizeWarning: A_eq does not appear to be of full row rank. To improve performance, check the problem formulation for redundant equality constraints.\n",
      "  \"\"\"Entry point for launching an IPython kernel.\n"
     ]
    }
   ],
   "source": [
    "res = linprog(C, A_eq=Aeq, b_eq=beq, bounds=bounds, method='simplex')"
   ]
  },
  {
   "cell_type": "code",
   "execution_count": 7,
   "metadata": {
    "scrolled": true
   },
   "outputs": [
    {
     "name": "stdout",
     "output_type": "stream",
     "text": [
      "[0. 1. 0. 0. 0. 0. 0. 0. 1. 0. 0. 0. 1. 0. 0. 0. 0. 0. 0. 1. 0. 0. 0. 0.\n",
      " 0. 0. 0. 0. 1. 0. 0. 0. 0. 0. 0. 1. 0. 0. 0. 0. 1. 0.] 4216.0\n"
     ]
    }
   ],
   "source": [
    "print(res.x, res.fun)"
   ]
  },
  {
   "cell_type": "code",
   "execution_count": null,
   "metadata": {},
   "outputs": [],
   "source": []
  },
  {
   "cell_type": "code",
   "execution_count": 8,
   "metadata": {},
   "outputs": [],
   "source": [
    "arc_names = find_arc_names(arc_idxs_list, node_names)\n",
    "arc_use = arc_usage(arc_names, res.x.astype(int))"
   ]
  },
  {
   "cell_type": "code",
   "execution_count": 9,
   "metadata": {},
   "outputs": [
    {
     "data": {
      "text/plain": [
       "{('Azul', 'B.Blanca'): 0,\n",
       " ('Azul', 'Bs. As.'): 1,\n",
       " ('Azul', 'C. Rivadavia'): 0,\n",
       " ('Azul', 'C. Uruguay'): 0,\n",
       " ('Azul', 'Concordia'): 0,\n",
       " ('Azul', 'Cordoba'): 0,\n",
       " ('B.Blanca', 'Azul'): 0,\n",
       " ('B.Blanca', 'Bs. As.'): 0,\n",
       " ('B.Blanca', 'C. Rivadavia'): 1,\n",
       " ('B.Blanca', 'C. Uruguay'): 0,\n",
       " ('B.Blanca', 'Concordia'): 0,\n",
       " ('B.Blanca', 'Cordoba'): 0,\n",
       " ('Bs. As.', 'Azul'): 1,\n",
       " ('Bs. As.', 'B.Blanca'): 0,\n",
       " ('Bs. As.', 'C. Rivadavia'): 0,\n",
       " ('Bs. As.', 'C. Uruguay'): 0,\n",
       " ('Bs. As.', 'Concordia'): 0,\n",
       " ('Bs. As.', 'Cordoba'): 0,\n",
       " ('C. Rivadavia', 'Azul'): 0,\n",
       " ('C. Rivadavia', 'B.Blanca'): 1,\n",
       " ('C. Rivadavia', 'Bs. As.'): 0,\n",
       " ('C. Rivadavia', 'C. Uruguay'): 0,\n",
       " ('C. Rivadavia', 'Concordia'): 0,\n",
       " ('C. Rivadavia', 'Cordoba'): 0,\n",
       " ('C. Uruguay', 'Azul'): 0,\n",
       " ('C. Uruguay', 'B.Blanca'): 0,\n",
       " ('C. Uruguay', 'Bs. As.'): 0,\n",
       " ('C. Uruguay', 'C. Rivadavia'): 0,\n",
       " ('C. Uruguay', 'Concordia'): 1,\n",
       " ('C. Uruguay', 'Cordoba'): 0,\n",
       " ('Concordia', 'Azul'): 0,\n",
       " ('Concordia', 'B.Blanca'): 0,\n",
       " ('Concordia', 'Bs. As.'): 0,\n",
       " ('Concordia', 'C. Rivadavia'): 0,\n",
       " ('Concordia', 'C. Uruguay'): 0,\n",
       " ('Concordia', 'Cordoba'): 1,\n",
       " ('Cordoba', 'Azul'): 0,\n",
       " ('Cordoba', 'B.Blanca'): 0,\n",
       " ('Cordoba', 'Bs. As.'): 0,\n",
       " ('Cordoba', 'C. Rivadavia'): 0,\n",
       " ('Cordoba', 'C. Uruguay'): 1,\n",
       " ('Cordoba', 'Concordia'): 0}"
      ]
     },
     "execution_count": 9,
     "metadata": {},
     "output_type": "execute_result"
    }
   ],
   "source": [
    "arc_use"
   ]
  },
  {
   "cell_type": "code",
   "execution_count": null,
   "metadata": {},
   "outputs": [],
   "source": []
  }
 ],
 "metadata": {
  "kernelspec": {
   "display_name": "Python 3",
   "language": "python",
   "name": "python3"
  },
  "language_info": {
   "codemirror_mode": {
    "name": "ipython",
    "version": 3
   },
   "file_extension": ".py",
   "mimetype": "text/x-python",
   "name": "python",
   "nbconvert_exporter": "python",
   "pygments_lexer": "ipython3",
   "version": "3.7.3"
  }
 },
 "nbformat": 4,
 "nbformat_minor": 2
}
